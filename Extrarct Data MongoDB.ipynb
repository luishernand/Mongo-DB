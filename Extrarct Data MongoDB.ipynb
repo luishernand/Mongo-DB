{
 "cells": [
  {
   "cell_type": "markdown",
   "id": "stunning-stress",
   "metadata": {},
   "source": [
    "## Extract Datsets from mongo db"
   ]
  },
  {
   "cell_type": "markdown",
   "id": "sticky-premiere",
   "metadata": {},
   "source": [
    "## Libraries"
   ]
  },
  {
   "cell_type": "code",
   "execution_count": 9,
   "id": "hawaiian-boating",
   "metadata": {},
   "outputs": [],
   "source": [
    "import pymongo"
   ]
  },
  {
   "cell_type": "markdown",
   "id": "greater-sunrise",
   "metadata": {},
   "source": [
    "## Create a conection"
   ]
  },
  {
   "cell_type": "code",
   "execution_count": 10,
   "id": "neutral-relay",
   "metadata": {},
   "outputs": [],
   "source": [
    "client = pymongo.MongoClient('mongodb://127.0.0.1:27017/')\n",
    "mydb = client['Employee']\n",
    "empinfo= mydb.empinformation"
   ]
  },
  {
   "cell_type": "markdown",
   "id": "removable-palestine",
   "metadata": {},
   "source": [
    "### Extract database and collection details"
   ]
  },
  {
   "cell_type": "code",
   "execution_count": 11,
   "id": "nominated-technique",
   "metadata": {},
   "outputs": [
    {
     "data": {
      "text/plain": [
       "{'_id': ObjectId('60d373e81260b0afa483e8ab'),\n",
       " 'firstname': 'Krish',\n",
       " 'lastname': 'Naik',\n",
       " 'department': 'Analytics',\n",
       " 'qualification': 'BE',\n",
       " 'age': 29}"
      ]
     },
     "execution_count": 11,
     "metadata": {},
     "output_type": "execute_result"
    }
   ],
   "source": [
    "empinfo.find_one()"
   ]
  },
  {
   "cell_type": "code",
   "execution_count": 12,
   "id": "personal-fairy",
   "metadata": {},
   "outputs": [
    {
     "name": "stdout",
     "output_type": "stream",
     "text": [
      "{'_id': ObjectId('60d373e81260b0afa483e8ab'), 'firstname': 'Krish', 'lastname': 'Naik', 'department': 'Analytics', 'qualification': 'BE', 'age': 29}\n",
      "{'_id': ObjectId('60d374381260b0afa483e8ac'), 'firstname': 'John', 'lastname': 'Doe', 'department': 'Analytics', 'qualification': 'statistics', 'age': 35}\n",
      "{'_id': ObjectId('60d374381260b0afa483e8ad'), 'firstname': 'John ', 'lastname': 'Smith', 'department': 'Analytics', 'qualification': 'masters', 'age': 30}\n",
      "{'_id': ObjectId('60d374381260b0afa483e8ae'), 'firstname': 'Manish', 'lastname': 'Sen', 'department': 'Analytics', 'qualification': 'phd', 'age': 34}\n",
      "{'_id': ObjectId('60d374381260b0afa483e8af'), 'firstname': 'Ram', 'lastname': 'Singh', 'department': 'Analytics', 'qualification': 'master', 'age': 32}\n"
     ]
    }
   ],
   "source": [
    "#Method 2\n",
    "for record in empinfo.find({}):\n",
    "    print(record)"
   ]
  },
  {
   "cell_type": "markdown",
   "id": "miniature-upset",
   "metadata": {},
   "source": [
    "### Extrac with pandas"
   ]
  },
  {
   "cell_type": "code",
   "execution_count": 13,
   "id": "dying-print",
   "metadata": {},
   "outputs": [],
   "source": [
    "import pandas as pd"
   ]
  },
  {
   "cell_type": "code",
   "execution_count": 14,
   "id": "coordinate-parking",
   "metadata": {},
   "outputs": [],
   "source": [
    "df = pd.DataFrame(list(empinfo.find()))"
   ]
  },
  {
   "cell_type": "code",
   "execution_count": 15,
   "id": "lucky-extension",
   "metadata": {},
   "outputs": [
    {
     "data": {
      "text/html": [
       "<div>\n",
       "<style scoped>\n",
       "    .dataframe tbody tr th:only-of-type {\n",
       "        vertical-align: middle;\n",
       "    }\n",
       "\n",
       "    .dataframe tbody tr th {\n",
       "        vertical-align: top;\n",
       "    }\n",
       "\n",
       "    .dataframe thead th {\n",
       "        text-align: right;\n",
       "    }\n",
       "</style>\n",
       "<table border=\"1\" class=\"dataframe\">\n",
       "  <thead>\n",
       "    <tr style=\"text-align: right;\">\n",
       "      <th></th>\n",
       "      <th>_id</th>\n",
       "      <th>firstname</th>\n",
       "      <th>lastname</th>\n",
       "      <th>department</th>\n",
       "      <th>qualification</th>\n",
       "      <th>age</th>\n",
       "    </tr>\n",
       "  </thead>\n",
       "  <tbody>\n",
       "    <tr>\n",
       "      <th>0</th>\n",
       "      <td>60d373e81260b0afa483e8ab</td>\n",
       "      <td>Krish</td>\n",
       "      <td>Naik</td>\n",
       "      <td>Analytics</td>\n",
       "      <td>BE</td>\n",
       "      <td>29</td>\n",
       "    </tr>\n",
       "    <tr>\n",
       "      <th>1</th>\n",
       "      <td>60d374381260b0afa483e8ac</td>\n",
       "      <td>John</td>\n",
       "      <td>Doe</td>\n",
       "      <td>Analytics</td>\n",
       "      <td>statistics</td>\n",
       "      <td>35</td>\n",
       "    </tr>\n",
       "    <tr>\n",
       "      <th>2</th>\n",
       "      <td>60d374381260b0afa483e8ad</td>\n",
       "      <td>John</td>\n",
       "      <td>Smith</td>\n",
       "      <td>Analytics</td>\n",
       "      <td>masters</td>\n",
       "      <td>30</td>\n",
       "    </tr>\n",
       "    <tr>\n",
       "      <th>3</th>\n",
       "      <td>60d374381260b0afa483e8ae</td>\n",
       "      <td>Manish</td>\n",
       "      <td>Sen</td>\n",
       "      <td>Analytics</td>\n",
       "      <td>phd</td>\n",
       "      <td>34</td>\n",
       "    </tr>\n",
       "    <tr>\n",
       "      <th>4</th>\n",
       "      <td>60d374381260b0afa483e8af</td>\n",
       "      <td>Ram</td>\n",
       "      <td>Singh</td>\n",
       "      <td>Analytics</td>\n",
       "      <td>master</td>\n",
       "      <td>32</td>\n",
       "    </tr>\n",
       "  </tbody>\n",
       "</table>\n",
       "</div>"
      ],
      "text/plain": [
       "                        _id firstname lastname department qualification  age\n",
       "0  60d373e81260b0afa483e8ab     Krish     Naik  Analytics            BE   29\n",
       "1  60d374381260b0afa483e8ac      John      Doe  Analytics    statistics   35\n",
       "2  60d374381260b0afa483e8ad     John     Smith  Analytics       masters   30\n",
       "3  60d374381260b0afa483e8ae    Manish      Sen  Analytics           phd   34\n",
       "4  60d374381260b0afa483e8af       Ram    Singh  Analytics        master   32"
      ]
     },
     "execution_count": 15,
     "metadata": {},
     "output_type": "execute_result"
    }
   ],
   "source": [
    "df"
   ]
  },
  {
   "cell_type": "code",
   "execution_count": 16,
   "id": "coordinated-faith",
   "metadata": {},
   "outputs": [
    {
     "data": {
      "text/plain": [
       "(5, 6)"
      ]
     },
     "execution_count": 16,
     "metadata": {},
     "output_type": "execute_result"
    }
   ],
   "source": [
    "df.shape"
   ]
  },
  {
   "cell_type": "markdown",
   "id": "coral-small",
   "metadata": {},
   "source": [
    "### Another db"
   ]
  },
  {
   "cell_type": "code",
   "execution_count": 20,
   "id": "subjective-tomorrow",
   "metadata": {},
   "outputs": [],
   "source": [
    "mydb = client['Empployee']\n",
    "inventory = mydb.inventory"
   ]
  },
  {
   "cell_type": "code",
   "execution_count": 21,
   "id": "political-divide",
   "metadata": {},
   "outputs": [
    {
     "data": {
      "text/html": [
       "<div>\n",
       "<style scoped>\n",
       "    .dataframe tbody tr th:only-of-type {\n",
       "        vertical-align: middle;\n",
       "    }\n",
       "\n",
       "    .dataframe tbody tr th {\n",
       "        vertical-align: top;\n",
       "    }\n",
       "\n",
       "    .dataframe thead th {\n",
       "        text-align: right;\n",
       "    }\n",
       "</style>\n",
       "<table border=\"1\" class=\"dataframe\">\n",
       "  <thead>\n",
       "    <tr style=\"text-align: right;\">\n",
       "      <th></th>\n",
       "      <th>_id</th>\n",
       "      <th>item</th>\n",
       "      <th>qty</th>\n",
       "      <th>size</th>\n",
       "      <th>status</th>\n",
       "      <th>lastModified</th>\n",
       "      <th>instock</th>\n",
       "    </tr>\n",
       "  </thead>\n",
       "  <tbody>\n",
       "    <tr>\n",
       "      <th>0</th>\n",
       "      <td>60d396e964f65281a68131ef</td>\n",
       "      <td>canvas</td>\n",
       "      <td>100.0</td>\n",
       "      <td>{'h': 28, 'w': 35.5, 'uom': 'cm'}</td>\n",
       "      <td>A</td>\n",
       "      <td>NaT</td>\n",
       "      <td>NaN</td>\n",
       "    </tr>\n",
       "    <tr>\n",
       "      <th>1</th>\n",
       "      <td>60d396e964f65281a68131f0</td>\n",
       "      <td>journal</td>\n",
       "      <td>25.0</td>\n",
       "      <td>{'h': 14, 'w': 21, 'uom': 'in'}</td>\n",
       "      <td>P</td>\n",
       "      <td>2021-06-23 20:20:35.533</td>\n",
       "      <td>NaN</td>\n",
       "    </tr>\n",
       "    <tr>\n",
       "      <th>2</th>\n",
       "      <td>60d396e964f65281a68131f1</td>\n",
       "      <td>mat</td>\n",
       "      <td>85.0</td>\n",
       "      <td>{'h': 27.9, 'w': 35.5, 'uom': 'cm'}</td>\n",
       "      <td>A</td>\n",
       "      <td>NaT</td>\n",
       "      <td>NaN</td>\n",
       "    </tr>\n",
       "    <tr>\n",
       "      <th>3</th>\n",
       "      <td>60d396e964f65281a68131f2</td>\n",
       "      <td>mousepad</td>\n",
       "      <td>25.0</td>\n",
       "      <td>{'h': 19, 'w': 22.85, 'uom': 'in'}</td>\n",
       "      <td>P</td>\n",
       "      <td>2021-06-23 20:20:35.534</td>\n",
       "      <td>NaN</td>\n",
       "    </tr>\n",
       "    <tr>\n",
       "      <th>4</th>\n",
       "      <td>60d396e964f65281a68131f3</td>\n",
       "      <td>notebook</td>\n",
       "      <td>50.0</td>\n",
       "      <td>{'h': 8.5, 'w': 11, 'uom': 'in'}</td>\n",
       "      <td>P</td>\n",
       "      <td>NaT</td>\n",
       "      <td>NaN</td>\n",
       "    </tr>\n",
       "    <tr>\n",
       "      <th>5</th>\n",
       "      <td>60d396e964f65281a68131f4</td>\n",
       "      <td>paper</td>\n",
       "      <td>NaN</td>\n",
       "      <td>NaN</td>\n",
       "      <td>NaN</td>\n",
       "      <td>NaT</td>\n",
       "      <td>[{'warehouse': 'A', 'qty': 60}, {'warehouse': ...</td>\n",
       "    </tr>\n",
       "    <tr>\n",
       "      <th>6</th>\n",
       "      <td>60d396e964f65281a68131f5</td>\n",
       "      <td>planner</td>\n",
       "      <td>75.0</td>\n",
       "      <td>{'h': 22.85, 'w': 30, 'uom': 'cm'}</td>\n",
       "      <td>D</td>\n",
       "      <td>NaT</td>\n",
       "      <td>NaN</td>\n",
       "    </tr>\n",
       "    <tr>\n",
       "      <th>7</th>\n",
       "      <td>60d396e964f65281a68131f6</td>\n",
       "      <td>postcard</td>\n",
       "      <td>45.0</td>\n",
       "      <td>{'h': 10, 'w': 15.25, 'uom': 'in'}</td>\n",
       "      <td>P</td>\n",
       "      <td>2021-06-23 20:20:35.534</td>\n",
       "      <td>NaN</td>\n",
       "    </tr>\n",
       "    <tr>\n",
       "      <th>8</th>\n",
       "      <td>60d396e964f65281a68131f7</td>\n",
       "      <td>sketchbook</td>\n",
       "      <td>80.0</td>\n",
       "      <td>{'h': 14, 'w': 21, 'uom': 'cm'}</td>\n",
       "      <td>A</td>\n",
       "      <td>NaT</td>\n",
       "      <td>NaN</td>\n",
       "    </tr>\n",
       "    <tr>\n",
       "      <th>9</th>\n",
       "      <td>60d396e964f65281a68131f8</td>\n",
       "      <td>sketch pad</td>\n",
       "      <td>95.0</td>\n",
       "      <td>{'h': 22.85, 'w': 30.5, 'uom': 'm'}</td>\n",
       "      <td>P</td>\n",
       "      <td>2021-06-23 20:20:07.247</td>\n",
       "      <td>NaN</td>\n",
       "    </tr>\n",
       "  </tbody>\n",
       "</table>\n",
       "</div>"
      ],
      "text/plain": [
       "                        _id        item    qty  \\\n",
       "0  60d396e964f65281a68131ef      canvas  100.0   \n",
       "1  60d396e964f65281a68131f0     journal   25.0   \n",
       "2  60d396e964f65281a68131f1         mat   85.0   \n",
       "3  60d396e964f65281a68131f2    mousepad   25.0   \n",
       "4  60d396e964f65281a68131f3    notebook   50.0   \n",
       "5  60d396e964f65281a68131f4       paper    NaN   \n",
       "6  60d396e964f65281a68131f5     planner   75.0   \n",
       "7  60d396e964f65281a68131f6    postcard   45.0   \n",
       "8  60d396e964f65281a68131f7  sketchbook   80.0   \n",
       "9  60d396e964f65281a68131f8  sketch pad   95.0   \n",
       "\n",
       "                                  size status            lastModified  \\\n",
       "0    {'h': 28, 'w': 35.5, 'uom': 'cm'}      A                     NaT   \n",
       "1      {'h': 14, 'w': 21, 'uom': 'in'}      P 2021-06-23 20:20:35.533   \n",
       "2  {'h': 27.9, 'w': 35.5, 'uom': 'cm'}      A                     NaT   \n",
       "3   {'h': 19, 'w': 22.85, 'uom': 'in'}      P 2021-06-23 20:20:35.534   \n",
       "4     {'h': 8.5, 'w': 11, 'uom': 'in'}      P                     NaT   \n",
       "5                                  NaN    NaN                     NaT   \n",
       "6   {'h': 22.85, 'w': 30, 'uom': 'cm'}      D                     NaT   \n",
       "7   {'h': 10, 'w': 15.25, 'uom': 'in'}      P 2021-06-23 20:20:35.534   \n",
       "8      {'h': 14, 'w': 21, 'uom': 'cm'}      A                     NaT   \n",
       "9  {'h': 22.85, 'w': 30.5, 'uom': 'm'}      P 2021-06-23 20:20:07.247   \n",
       "\n",
       "                                             instock  \n",
       "0                                                NaN  \n",
       "1                                                NaN  \n",
       "2                                                NaN  \n",
       "3                                                NaN  \n",
       "4                                                NaN  \n",
       "5  [{'warehouse': 'A', 'qty': 60}, {'warehouse': ...  \n",
       "6                                                NaN  \n",
       "7                                                NaN  \n",
       "8                                                NaN  \n",
       "9                                                NaN  "
      ]
     },
     "execution_count": 21,
     "metadata": {},
     "output_type": "execute_result"
    }
   ],
   "source": [
    "df2 = pd.DataFrame(list(inventory.find()))\n",
    "df2"
   ]
  },
  {
   "cell_type": "code",
   "execution_count": 22,
   "id": "spanish-affiliation",
   "metadata": {},
   "outputs": [
    {
     "data": {
      "text/plain": [
       "(10, 7)"
      ]
     },
     "execution_count": 22,
     "metadata": {},
     "output_type": "execute_result"
    }
   ],
   "source": [
    "df2.shape"
   ]
  },
  {
   "cell_type": "code",
   "execution_count": 23,
   "id": "agricultural-gossip",
   "metadata": {},
   "outputs": [],
   "source": [
    "mydatabase = client['Students']"
   ]
  },
  {
   "cell_type": "code",
   "execution_count": 24,
   "id": "liquid-lobby",
   "metadata": {},
   "outputs": [],
   "source": [
    "db = mydatabase.studentscores"
   ]
  },
  {
   "cell_type": "code",
   "execution_count": 25,
   "id": "altered-sheffield",
   "metadata": {},
   "outputs": [
    {
     "data": {
      "text/html": [
       "<div>\n",
       "<style scoped>\n",
       "    .dataframe tbody tr th:only-of-type {\n",
       "        vertical-align: middle;\n",
       "    }\n",
       "\n",
       "    .dataframe tbody tr th {\n",
       "        vertical-align: top;\n",
       "    }\n",
       "\n",
       "    .dataframe thead th {\n",
       "        text-align: right;\n",
       "    }\n",
       "</style>\n",
       "<table border=\"1\" class=\"dataframe\">\n",
       "  <thead>\n",
       "    <tr style=\"text-align: right;\">\n",
       "      <th></th>\n",
       "      <th>_id</th>\n",
       "      <th>user</th>\n",
       "      <th>subject</th>\n",
       "      <th>score</th>\n",
       "      <th>title</th>\n",
       "    </tr>\n",
       "  </thead>\n",
       "  <tbody>\n",
       "    <tr>\n",
       "      <th>0</th>\n",
       "      <td>60d3989005aaaca2474ef53c</td>\n",
       "      <td>Krish</td>\n",
       "      <td>Database</td>\n",
       "      <td>80</td>\n",
       "      <td>NaN</td>\n",
       "    </tr>\n",
       "    <tr>\n",
       "      <th>1</th>\n",
       "      <td>60d3989005aaaca2474ef53d</td>\n",
       "      <td>Amit</td>\n",
       "      <td>JavaScript</td>\n",
       "      <td>90</td>\n",
       "      <td>NaN</td>\n",
       "    </tr>\n",
       "    <tr>\n",
       "      <th>2</th>\n",
       "      <td>60d3989005aaaca2474ef53e</td>\n",
       "      <td>Amit</td>\n",
       "      <td>NaN</td>\n",
       "      <td>85</td>\n",
       "      <td>Database</td>\n",
       "    </tr>\n",
       "    <tr>\n",
       "      <th>3</th>\n",
       "      <td>60d3989005aaaca2474ef53f</td>\n",
       "      <td>Krish</td>\n",
       "      <td>NaN</td>\n",
       "      <td>75</td>\n",
       "      <td>JavaScript</td>\n",
       "    </tr>\n",
       "    <tr>\n",
       "      <th>4</th>\n",
       "      <td>60d3989005aaaca2474ef540</td>\n",
       "      <td>Amit</td>\n",
       "      <td>NaN</td>\n",
       "      <td>60</td>\n",
       "      <td>Data Science</td>\n",
       "    </tr>\n",
       "    <tr>\n",
       "      <th>5</th>\n",
       "      <td>60d3989005aaaca2474ef541</td>\n",
       "      <td>Krish</td>\n",
       "      <td>NaN</td>\n",
       "      <td>95</td>\n",
       "      <td>Data Science</td>\n",
       "    </tr>\n",
       "  </tbody>\n",
       "</table>\n",
       "</div>"
      ],
      "text/plain": [
       "                        _id   user     subject  score         title\n",
       "0  60d3989005aaaca2474ef53c  Krish    Database     80           NaN\n",
       "1  60d3989005aaaca2474ef53d   Amit  JavaScript     90           NaN\n",
       "2  60d3989005aaaca2474ef53e   Amit         NaN     85      Database\n",
       "3  60d3989005aaaca2474ef53f  Krish         NaN     75    JavaScript\n",
       "4  60d3989005aaaca2474ef540   Amit         NaN     60  Data Science\n",
       "5  60d3989005aaaca2474ef541  Krish         NaN     95  Data Science"
      ]
     },
     "execution_count": 25,
     "metadata": {},
     "output_type": "execute_result"
    }
   ],
   "source": [
    "df3 = pd.DataFrame(list(db.find()))\n",
    "df3"
   ]
  },
  {
   "cell_type": "code",
   "execution_count": 26,
   "id": "sticky-worship",
   "metadata": {},
   "outputs": [
    {
     "data": {
      "text/plain": [
       "(6, 5)"
      ]
     },
     "execution_count": 26,
     "metadata": {},
     "output_type": "execute_result"
    }
   ],
   "source": [
    "df3.shape"
   ]
  }
 ],
 "metadata": {
  "kernelspec": {
   "display_name": "Python 3",
   "language": "python",
   "name": "python3"
  },
  "language_info": {
   "codemirror_mode": {
    "name": "ipython",
    "version": 3
   },
   "file_extension": ".py",
   "mimetype": "text/x-python",
   "name": "python",
   "nbconvert_exporter": "python",
   "pygments_lexer": "ipython3",
   "version": "3.8.5"
  }
 },
 "nbformat": 4,
 "nbformat_minor": 5
}
