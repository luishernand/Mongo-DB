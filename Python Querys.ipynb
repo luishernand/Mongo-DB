{
 "cells": [
  {
   "cell_type": "code",
   "execution_count": 1,
   "id": "fantastic-radical",
   "metadata": {},
   "outputs": [],
   "source": [
    "import pymongo"
   ]
  },
  {
   "cell_type": "code",
   "execution_count": 2,
   "id": "composed-requirement",
   "metadata": {},
   "outputs": [],
   "source": [
    "client = pymongo.MongoClient('mongodb://127.0.0.1:27017/')\n",
    "#vrear la base de datos\n",
    "mydb = client['Employee']\n",
    "empinfo= mydb.empinformation"
   ]
  },
  {
   "cell_type": "markdown",
   "id": "communist-process",
   "metadata": {},
   "source": [
    "### Insertar un record"
   ]
  },
  {
   "cell_type": "code",
   "execution_count": 3,
   "id": "requested-baseline",
   "metadata": {},
   "outputs": [],
   "source": [
    "# Insertar un record\n",
    "record={\n",
    "        'firstname':'Krish',\n",
    "        'lastname':'Naik',\n",
    "        'department':'Analytics',\n",
    "        'qualification':'BE',\n",
    "        'age':29\n",
    "        }"
   ]
  },
  {
   "cell_type": "code",
   "execution_count": 4,
   "id": "demanding-craps",
   "metadata": {},
   "outputs": [
    {
     "data": {
      "text/plain": [
       "<pymongo.results.InsertOneResult at 0x1cb7d643680>"
      ]
     },
     "execution_count": 4,
     "metadata": {},
     "output_type": "execute_result"
    }
   ],
   "source": [
    "empinfo.insert_one(record)"
   ]
  },
  {
   "cell_type": "markdown",
   "id": "bridal-above",
   "metadata": {},
   "source": [
    "### Insertar varios registros "
   ]
  },
  {
   "cell_type": "code",
   "execution_count": 5,
   "id": "normal-bookmark",
   "metadata": {},
   "outputs": [],
   "source": [
    "records=[{\n",
    "        'firstname':'John',\n",
    "        'lastname':'Doe',\n",
    "        'department':'Analytics',\n",
    "        'qualification':'statistics',\n",
    "        'age':35\n",
    "        \n",
    "        },\n",
    "         {\n",
    "        'firstname':'John ',\n",
    "        'lastname':'Smith',\n",
    "        'department':'Analytics',\n",
    "        'qualification':'masters',\n",
    "        'age':30\n",
    "        \n",
    "        },\n",
    "        {\n",
    "        'firstname':'Manish',\n",
    "        'lastname':'Sen',\n",
    "        'department':'Analytics',\n",
    "        'qualification':'phd',\n",
    "        'age':34\n",
    "        \n",
    "        },\n",
    "        {\n",
    "        'firstname':'Ram',\n",
    "        'lastname':'Singh',\n",
    "        'department':'Analytics',\n",
    "        'qualification':'master',\n",
    "        'age':32\n",
    "        \n",
    "        }]"
   ]
  },
  {
   "cell_type": "code",
   "execution_count": 6,
   "id": "downtown-elizabeth",
   "metadata": {},
   "outputs": [
    {
     "data": {
      "text/plain": [
       "<pymongo.results.InsertManyResult at 0x1cb7e2161c0>"
      ]
     },
     "execution_count": 6,
     "metadata": {},
     "output_type": "execute_result"
    }
   ],
   "source": [
    "empinfo.insert_many(records)"
   ]
  },
  {
   "cell_type": "markdown",
   "id": "everyday-power",
   "metadata": {},
   "source": [
    "### Simple query"
   ]
  },
  {
   "cell_type": "code",
   "execution_count": 7,
   "id": "lovely-procurement",
   "metadata": {},
   "outputs": [
    {
     "data": {
      "text/plain": [
       "{'_id': ObjectId('60d373e81260b0afa483e8ab'),\n",
       " 'firstname': 'Krish',\n",
       " 'lastname': 'Naik',\n",
       " 'department': 'Analytics',\n",
       " 'qualification': 'BE',\n",
       " 'age': 29}"
      ]
     },
     "execution_count": 7,
     "metadata": {},
     "output_type": "execute_result"
    }
   ],
   "source": [
    "empinfo.find_one()"
   ]
  },
  {
   "cell_type": "markdown",
   "id": "level-model",
   "metadata": {},
   "source": [
    "Query para traer el primer registro de la base de datos"
   ]
  },
  {
   "cell_type": "code",
   "execution_count": 10,
   "id": "special-lewis",
   "metadata": {},
   "outputs": [
    {
     "name": "stdout",
     "output_type": "stream",
     "text": [
      "{'_id': ObjectId('60d373e81260b0afa483e8ab'), 'firstname': 'Krish', 'lastname': 'Naik', 'department': 'Analytics', 'qualification': 'BE', 'age': 29}\n",
      "{'_id': ObjectId('60d374381260b0afa483e8ac'), 'firstname': 'John', 'lastname': 'Doe', 'department': 'Analytics', 'qualification': 'statistics', 'age': 35}\n",
      "{'_id': ObjectId('60d374381260b0afa483e8ad'), 'firstname': 'John ', 'lastname': 'Smith', 'department': 'Analytics', 'qualification': 'masters', 'age': 30}\n",
      "{'_id': ObjectId('60d374381260b0afa483e8ae'), 'firstname': 'Manish', 'lastname': 'Sen', 'department': 'Analytics', 'qualification': 'phd', 'age': 34}\n",
      "{'_id': ObjectId('60d374381260b0afa483e8af'), 'firstname': 'Ram', 'lastname': 'Singh', 'department': 'Analytics', 'qualification': 'master', 'age': 32}\n"
     ]
    }
   ],
   "source": [
    "## Select * from employeeinformation\n",
    "for record in empinfo.find({}):\n",
    "    print(record)"
   ]
  },
  {
   "cell_type": "code",
   "execution_count": 11,
   "id": "industrial-monster",
   "metadata": {},
   "outputs": [
    {
     "name": "stdout",
     "output_type": "stream",
     "text": [
      "{'_id': ObjectId('60d373e81260b0afa483e8ab'), 'firstname': 'Krish', 'lastname': 'Naik', 'department': 'Analytics', 'qualification': 'BE', 'age': 29}\n"
     ]
    }
   ],
   "source": [
    "## specifit es como select * from empinfo where firtname ='Krish'\n",
    "for record in empinfo.find({'firstname': 'Krish'}):\n",
    "    print(record)"
   ]
  },
  {
   "cell_type": "code",
   "execution_count": 14,
   "id": "stopped-converter",
   "metadata": {},
   "outputs": [
    {
     "name": "stdout",
     "output_type": "stream",
     "text": [
      "{'_id': ObjectId('60d374381260b0afa483e8ae'), 'firstname': 'Manish', 'lastname': 'Sen', 'department': 'Analytics', 'qualification': 'phd', 'age': 34}\n",
      "{'_id': ObjectId('60d374381260b0afa483e8af'), 'firstname': 'Ram', 'lastname': 'Singh', 'department': 'Analytics', 'qualification': 'master', 'age': 32}\n"
     ]
    }
   ],
   "source": [
    "## Query documents using query operators($in,$lt,$gt)\n",
    "for record in empinfo.find({'qualification':{'$in':['phd','master']}}):\n",
    "    print(record)"
   ]
  },
  {
   "cell_type": "code",
   "execution_count": 19,
   "id": "noted-manchester",
   "metadata": {},
   "outputs": [
    {
     "name": "stdout",
     "output_type": "stream",
     "text": [
      "{'_id': ObjectId('60d374381260b0afa483e8af'), 'firstname': 'Ram', 'lastname': 'Singh', 'department': 'Analytics', 'qualification': 'master', 'age': 32}\n"
     ]
    }
   ],
   "source": [
    "for record in empinfo.find({'qualification':'master', 'age':{'$lt':35}}):\n",
    "    print(record)"
   ]
  },
  {
   "cell_type": "code",
   "execution_count": 20,
   "id": "diagnostic-nevada",
   "metadata": {},
   "outputs": [
    {
     "ename": "SyntaxError",
     "evalue": "closing parenthesis '}' does not match opening parenthesis '(' (<ipython-input-20-83165807201a>, line 2)",
     "output_type": "error",
     "traceback": [
      "\u001b[1;36m  File \u001b[1;32m\"<ipython-input-20-83165807201a>\"\u001b[1;36m, line \u001b[1;32m2\u001b[0m\n\u001b[1;33m    for record in empinfo.find({'or': [{'firstname': 'Manish','qualification': 'master' }]}}):\u001b[0m\n\u001b[1;37m                                                                                           ^\u001b[0m\n\u001b[1;31mSyntaxError\u001b[0m\u001b[1;31m:\u001b[0m closing parenthesis '}' does not match opening parenthesis '('\n"
     ]
    }
   ],
   "source": [
    "## OR operators\n",
    "for record in empinfo.find({'$or': }):\n",
    "    print(record)"
   ]
  },
  {
   "cell_type": "code",
   "execution_count": null,
   "id": "ordered-buffalo",
   "metadata": {},
   "outputs": [],
   "source": []
  }
 ],
 "metadata": {
  "kernelspec": {
   "display_name": "Python 3",
   "language": "python",
   "name": "python3"
  },
  "language_info": {
   "codemirror_mode": {
    "name": "ipython",
    "version": 3
   },
   "file_extension": ".py",
   "mimetype": "text/x-python",
   "name": "python",
   "nbconvert_exporter": "python",
   "pygments_lexer": "ipython3",
   "version": "3.8.5"
  }
 },
 "nbformat": 4,
 "nbformat_minor": 5
}
